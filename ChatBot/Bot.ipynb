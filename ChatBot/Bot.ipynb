{
 "cells": [
  {
   "cell_type": "code",
   "execution_count": 1,
   "id": "e7609cbc",
   "metadata": {},
   "outputs": [],
   "source": [
    "import json\n",
    "import numpy"
   ]
  },
  {
   "cell_type": "code",
   "execution_count": 2,
   "id": "ee1d6078",
   "metadata": {},
   "outputs": [],
   "source": [
    "f = open(\"WAChat.txt\", \"r\")"
   ]
  },
  {
   "cell_type": "code",
   "execution_count": 3,
   "id": "b90129c4",
   "metadata": {},
   "outputs": [],
   "source": [
    "a = []\n",
    "for i in f:\n",
    "    if \"-\" in i:\n",
    "        g = i.split(\":\")\n",
    "        try:\n",
    "            a.append(g[2])\n",
    "        except:\n",
    "            pass\n",
    "    else:\n",
    "        a.append(i)"
   ]
  },
  {
   "cell_type": "code",
   "execution_count": null,
   "id": "e08c9560",
   "metadata": {},
   "outputs": [],
   "source": [
    "a"
   ]
  },
  {
   "cell_type": "code",
   "execution_count": 5,
   "id": "03194ec5",
   "metadata": {},
   "outputs": [],
   "source": [
    "b = []\n",
    "for i in a:\n",
    "    if \"\\n\" in a:\n",
    "        b.append(i.split(\"\\n\")[0])\n",
    "    else:\n",
    "        b.append(i)"
   ]
  },
  {
   "cell_type": "code",
   "execution_count": null,
   "id": "95c700ca",
   "metadata": {},
   "outputs": [],
   "source": [
    "WAChat = b\n",
    "WAChat[-1]"
   ]
  },
  {
   "cell_type": "code",
   "execution_count": 7,
   "id": "37e39086",
   "metadata": {},
   "outputs": [],
   "source": [
    "f = open(\"data1.json\", \"r\")\n",
    "insta1 = json.loads(f.read())"
   ]
  },
  {
   "cell_type": "code",
   "execution_count": null,
   "id": "8a3c6627",
   "metadata": {},
   "outputs": [],
   "source": [
    "messages = insta1[\"messages\"]\n",
    "# message = messages[\"content\"]\n",
    "# messages\n",
    "insta1[\"messages\"][7][\"content\"]"
   ]
  },
  {
   "cell_type": "code",
   "execution_count": 9,
   "id": "429cc268",
   "metadata": {},
   "outputs": [],
   "source": [
    "p = []\n",
    "for i in messages:\n",
    "    try:\n",
    "        p.append(i[\"content\"])\n",
    "    except:\n",
    "        pass"
   ]
  },
  {
   "cell_type": "code",
   "execution_count": null,
   "id": "7a210cea",
   "metadata": {},
   "outputs": [],
   "source": [
    "p"
   ]
  },
  {
   "cell_type": "code",
   "execution_count": 11,
   "id": "79fa3fc6",
   "metadata": {},
   "outputs": [],
   "source": [
    "f2 = open(\"data2.json\", \"r\")\n",
    "insta2 = json.loads(f2.read())\n",
    "messages2 = insta2[\"messages\"]\n"
   ]
  },
  {
   "cell_type": "code",
   "execution_count": 12,
   "id": "1d0e839a",
   "metadata": {},
   "outputs": [],
   "source": [
    "# p = []\n",
    "for i in messages2:\n",
    "    try:\n",
    "        p.append(i[\"content\"])\n",
    "#         print(i[\"content\"])\n",
    "    except:\n",
    "        pass"
   ]
  },
  {
   "cell_type": "code",
   "execution_count": 13,
   "id": "d5b2c5c2",
   "metadata": {},
   "outputs": [
    {
     "data": {
      "text/plain": [
       "12577"
      ]
     },
     "execution_count": 13,
     "metadata": {},
     "output_type": "execute_result"
    }
   ],
   "source": [
    "len(p)"
   ]
  },
  {
   "cell_type": "code",
   "execution_count": 14,
   "id": "90039120",
   "metadata": {},
   "outputs": [],
   "source": [
    "for i in p:\n",
    "    b.append(i)"
   ]
  },
  {
   "cell_type": "code",
   "execution_count": 15,
   "id": "0c90e2d8",
   "metadata": {},
   "outputs": [
    {
     "data": {
      "text/plain": [
       "25396"
      ]
     },
     "execution_count": 15,
     "metadata": {},
     "output_type": "execute_result"
    }
   ],
   "source": [
    "len(b)"
   ]
  },
  {
   "cell_type": "code",
   "execution_count": 16,
   "id": "e2766d53",
   "metadata": {},
   "outputs": [],
   "source": [
    "from chatterbot import ChatBot\n",
    "from chatterbot.trainers import ListTrainer"
   ]
  },
  {
   "cell_type": "code",
   "execution_count": null,
   "id": "36d8c396",
   "metadata": {},
   "outputs": [],
   "source": [
    "chatbot = ChatBot(\"Chatpot\")\n",
    "\n",
    "trainer = ListTrainer(chatbot)\n",
    "trainer.train(b)"
   ]
  },
  {
   "cell_type": "code",
   "execution_count": null,
   "id": "143d3b69",
   "metadata": {},
   "outputs": [],
   "source": [
    "exit_conditions = (\":q\", \"quit\", \"exit\")\n",
    "while True:\n",
    "    query = input(\"> \")\n",
    "    if query in exit_conditions:\n",
    "        break\n",
    "    else:\n",
    "        print(f\"🪴 {chatbot.get_response(query)}\")"
   ]
  },
  {
   "cell_type": "code",
   "execution_count": null,
   "id": "4089d0bc",
   "metadata": {
    "collapsed": true
   },
   "outputs": [],
   "source": []
  },
  {
   "cell_type": "code",
   "execution_count": null,
   "id": "b1426384",
   "metadata": {},
   "outputs": [],
   "source": []
  }
 ],
 "metadata": {
  "kernelspec": {
   "display_name": "Python 3 (ipykernel)",
   "language": "python",
   "name": "python3"
  },
  "language_info": {
   "codemirror_mode": {
    "name": "ipython",
    "version": 3
   },
   "file_extension": ".py",
   "mimetype": "text/x-python",
   "name": "python",
   "nbconvert_exporter": "python",
   "pygments_lexer": "ipython3",
   "version": "3.8.15"
  }
 },
 "nbformat": 4,
 "nbformat_minor": 5
}
